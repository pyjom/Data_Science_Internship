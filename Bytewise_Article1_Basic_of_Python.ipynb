{
 "cells": [
  {
   "cell_type": "markdown",
   "id": "a34e19db",
   "metadata": {},
   "source": [
    "# Python: Starting with the basics"
   ]
  },
  {
   "cell_type": "markdown",
   "id": "3921988d",
   "metadata": {},
   "source": [
    "Understanding the basic structure of Python is important because it enables us to write correct, efficient, and maintainable code, and to leverage the power of Python's vast ecosystem of libraries and frameworks.\n",
    "\n",
    "1.     Syntax: Every programming language has its own syntax, which is a set of rules for how to write code in that language. Understanding the syntax of Python is important because it enables you to write correct and error-free code. <br>\n",
    "\n",
    "2. Program flow: Every program has a flow, which is the order in which statements are executed. Understanding the flow of a Python program is important because it enables you to write programs that behave as expected and to debug programs when things go wrong. <br>\n",
    "\n",
    "3. Data types and structures: Python has a rich set of data types and structures, including strings, numbers, lists, dictionaries, and more. Understanding these data types and structures is important because it enables you to write programs that manipulate and process data in meaningful ways. <br>\n",
    "\n"
   ]
  },
  {
   "cell_type": "code",
   "execution_count": 1,
   "id": "681fbd89",
   "metadata": {},
   "outputs": [],
   "source": [
    "# Importing necessary libraries\n",
    "import pandas as pd\n",
    "import numpy as np"
   ]
  },
  {
   "cell_type": "code",
   "execution_count": 2,
   "id": "6ea480b9",
   "metadata": {},
   "outputs": [
    {
     "data": {
      "text/html": [
       "<div>\n",
       "<style scoped>\n",
       "    .dataframe tbody tr th:only-of-type {\n",
       "        vertical-align: middle;\n",
       "    }\n",
       "\n",
       "    .dataframe tbody tr th {\n",
       "        vertical-align: top;\n",
       "    }\n",
       "\n",
       "    .dataframe thead th {\n",
       "        text-align: right;\n",
       "    }\n",
       "</style>\n",
       "<table border=\"1\" class=\"dataframe\">\n",
       "  <thead>\n",
       "    <tr style=\"text-align: right;\">\n",
       "      <th></th>\n",
       "      <th>article_link</th>\n",
       "      <th>title</th>\n",
       "      <th>author</th>\n",
       "      <th>category</th>\n",
       "      <th>article_content</th>\n",
       "      <th>article_tokens</th>\n",
       "    </tr>\n",
       "  </thead>\n",
       "  <tbody>\n",
       "    <tr>\n",
       "      <th>0</th>\n",
       "      <td>https://www.axios.com/2023/03/13/silicon-valle...</td>\n",
       "      <td>Silicon Valley Bank's U.K. arm sold to HSBC fo...</td>\n",
       "      <td>Kia Kokalitcheva</td>\n",
       "      <td>Economy &amp; Business</td>\n",
       "      <td>Silicon Valley Bank's, U.K. business has been ...</td>\n",
       "      <td>['silicon', 'valley', 'bank', 'business', 'sel...</td>\n",
       "    </tr>\n",
       "    <tr>\n",
       "      <th>1</th>\n",
       "      <td>https://www.axios.com/2023/03/13/biden-alaska-...</td>\n",
       "      <td>Biden to protect 16M acres in Alaska as oil pr...</td>\n",
       "      <td>Rebecca Falconer,Andrew Freedman</td>\n",
       "      <td>Energy &amp; Environment</td>\n",
       "      <td>The Biden administration is moving to protect ...</td>\n",
       "      <td>['biden', 'administration', 'protect', 'millio...</td>\n",
       "    </tr>\n",
       "  </tbody>\n",
       "</table>\n",
       "</div>"
      ],
      "text/plain": [
       "                                        article_link  \\\n",
       "0  https://www.axios.com/2023/03/13/silicon-valle...   \n",
       "1  https://www.axios.com/2023/03/13/biden-alaska-...   \n",
       "\n",
       "                                               title  \\\n",
       "0  Silicon Valley Bank's U.K. arm sold to HSBC fo...   \n",
       "1  Biden to protect 16M acres in Alaska as oil pr...   \n",
       "\n",
       "                             author              category  \\\n",
       "0                  Kia Kokalitcheva    Economy & Business   \n",
       "1  Rebecca Falconer,Andrew Freedman  Energy & Environment   \n",
       "\n",
       "                                     article_content  \\\n",
       "0  Silicon Valley Bank's, U.K. business has been ...   \n",
       "1  The Biden administration is moving to protect ...   \n",
       "\n",
       "                                      article_tokens  \n",
       "0  ['silicon', 'valley', 'bank', 'business', 'sel...  \n",
       "1  ['biden', 'administration', 'protect', 'millio...  "
      ]
     },
     "execution_count": 2,
     "metadata": {},
     "output_type": "execute_result"
    }
   ],
   "source": [
    "# Reading the csv file\n",
    "df = pd.read_csv('28.5k_categorized.csv')\n",
    "df.head(2)"
   ]
  },
  {
   "cell_type": "markdown",
   "id": "f6c569d3",
   "metadata": {},
   "source": [
    "## Variables\n",
    "- Variables are used to store values in Python. You can store many types of data in variables including:\n",
    "    1. Numbers - Integers, floats, and complex numbers.\n",
    "    2. Strings - Textual data enclosed in quotes.\n",
    "    3. Boolean values - True or False.\n",
    "    4. Lists - Ordered sequences of values, enclosed in square brackets.\n",
    "    5. Tuples - Immutable ordered sequences of values, enclosed in parentheses.\n",
    "    6. Sets - Unordered collections of unique values, enclosed in curly braces.\n",
    "    7. Dictionaries - Unordered collections of key-value pairs, enclosed in curly braces with each key-value pair separated by a colon."
   ]
  },
  {
   "cell_type": "markdown",
   "id": "cdc50409",
   "metadata": {},
   "source": [
    "## Operators\n",
    "- These are the main categories of operators in Python, and there are many more specific operators within each category. Understanding these operators is essential for writing effective Python code\n",
    "\n",
    "### 1. Arithmetic Operators \n",
    "- used to perform arithmetic operations such as addition, subtraction, multiplication, division, and more.\n",
    "        + (addition)\n",
    "        - (subtraction)\n",
    "        * (multiplication)\n",
    "        / (division)\n",
    "        % (modulus)\n",
    "        ** (exponentiation)\n",
    "        // (floor division)\n",
    "        \n",
    "### 2. Comparison Operators\n",
    "- used to compare two values and return a Boolean value (True or False)\n",
    "        == (equal to)\n",
    "        != (not equal to)\n",
    "        < (less than)\n",
    "        > (greater than)\n",
    "        <= (less than or equal to)\n",
    "        >= (greater than or equal to)\n",
    "        \n",
    "        \n",
    "### 3. Logical operators\n",
    "- used to combine two or more Boolean expressions and return a Boolean value\n",
    "        and (logical and)\n",
    "        or (logical or)\n",
    "        not (logical not)\n",
    "        \n",
    "### 4. Assignment operators\n",
    "- used to assign values to variables. \n",
    "        = (simple assignment)\n",
    "        += (addition assignment)\n",
    "        -= (subtraction assignment)\n",
    "        *= (multiplication assignment)\n",
    "        /= (division assignment)\n",
    "        %= (modulus assignment)\n",
    "        **= (exponentiation assignment)\n",
    "        //= (floor division assignment)\n",
    "\n",
    "### 5. Bitwise operators\n",
    "- used to perform bitwise operations on integer values\n",
    "        & (bitwise and)\n",
    "        | (bitwise or)\n",
    "        ^ (bitwise xor)\n",
    "        ~ (bitwise not)\n",
    "        << (left shift)\n",
    "        >> (right shift)\n",
    "        \n",
    "### 6. Identity operators\n",
    "- used to compare the identity of two objects\n",
    "        is (object identity)\n",
    "        is not (negated object identity)\n",
    "        \n",
    "### 7. Membership operators\n",
    "- used to test whether a value is a member of a sequence or collection. \n",
    "        in (membership test)\n",
    "        not in (negated membership test)\n",
    "        \n",
    "## Common Flow statements \n",
    "- refers to the order in which statements are executed in a program. Control flow statements are used to alter the normal execution of a program based on certain conditions\n",
    "\n",
    "        if statements: used to execute a block of code if a certain condition is true\n",
    "        else statements: used in conjunction with if statements to execute a block of code if the condition is false\n",
    "        elif statements: used to chain multiple if statements together, allowing for multiple conditions to be checked\n",
    "        while loops: used to execute a block of code repeatedly as long as a certain condition is true\n",
    "        for loops: used to iterate over a sequence of elements (such as a list or string) and execute a block of code for each element\n",
    "\n",
    "\n",
    "\n",
    "\n"
   ]
  },
  {
   "cell_type": "markdown",
   "id": "72dcf97f",
   "metadata": {},
   "source": [
    "##### Data Exploration \n",
    "Raw data is  reviewed with a combination of manual workflows and automated data-exploration techniques to visually explore data sets, look for similarities, patterns and outliers and to identify the relationships between different variables.\n",
    "\n",
    "### We will use the variables and operators in exploring the data that we have"
   ]
  },
  {
   "cell_type": "code",
   "execution_count": 3,
   "id": "e489799f",
   "metadata": {
    "scrolled": false
   },
   "outputs": [
    {
     "name": "stdout",
     "output_type": "stream",
     "text": [
      "<class 'pandas.core.frame.DataFrame'>\n",
      "RangeIndex: 28461 entries, 0 to 28460\n",
      "Data columns (total 6 columns):\n",
      " #   Column           Non-Null Count  Dtype \n",
      "---  ------           --------------  ----- \n",
      " 0   article_link     28461 non-null  object\n",
      " 1   title            28461 non-null  object\n",
      " 2   author           28461 non-null  object\n",
      " 3   category         28461 non-null  object\n",
      " 4   article_content  28461 non-null  object\n",
      " 5   article_tokens   28461 non-null  object\n",
      "dtypes: object(6)\n",
      "memory usage: 1.3+ MB\n"
     ]
    }
   ],
   "source": [
    "df.info()"
   ]
  },
  {
   "cell_type": "markdown",
   "id": "4c73fbc5",
   "metadata": {},
   "source": [
    "We could see that all of the variables (article_link, title, author, category, article_contenct, article_tokens) have an **object datatype** <br><br>\n",
    "                    *the object data type is the base type for all other data types. It represents a general-purpose object that can contain any value or data type*"
   ]
  },
  {
   "cell_type": "markdown",
   "id": "aa29be9b",
   "metadata": {},
   "source": [
    "### Question 1: What if you want to know how many articles did Kia Kokalitcheva have wrote?"
   ]
  },
  {
   "cell_type": "code",
   "execution_count": 30,
   "id": "8d47616d",
   "metadata": {},
   "outputs": [
    {
     "name": "stdout",
     "output_type": "stream",
     "text": [
      "The author has written 198 articles.\n",
      "The author has written 198 articles.\n"
     ]
    }
   ],
   "source": [
    "# We will use variables, logical operators, and for loops\n",
    "author = 'Kia Kokalitcheva'\n",
    "\n",
    "# Method 1\n",
    "count=[]\n",
    "for i in df['author']:\n",
    "    if i == author:\n",
    "        count.append(i)\n",
    "print(\"The author has written\", len(count), \"articles.\")\n",
    "\n",
    "# Method 2, more advance knowledge but less lenghty code\n",
    "count = df[df['author'] == \"Kia Kokalitcheva\"].shape[0]\n",
    "print(\"The author has written\", count, \"articles.\")"
   ]
  },
  {
   "cell_type": "markdown",
   "id": "dc095b6a",
   "metadata": {},
   "source": [
    "### Question 2: What if you want to know how many number of article has a category of Economy & Business or Energy & Environment"
   ]
  },
  {
   "cell_type": "code",
   "execution_count": 47,
   "id": "595ae671",
   "metadata": {},
   "outputs": [
    {
     "name": "stdout",
     "output_type": "stream",
     "text": [
      "The total number of articles are 6531\n",
      "The total number of articles are 6531\n"
     ]
    }
   ],
   "source": [
    "# Using for loops and bitwise operator\n",
    "\n",
    "# Method 1\n",
    "var_1 = 'Economy & Business'\n",
    "var_2 = 'Energy & Environment'\n",
    "count =[]\n",
    "for i in df['category']:\n",
    "    if (i == var_1) | (i == var_2):\n",
    "        count.append(i)\n",
    "print('The total number of articles are', len(count))\n",
    "\n",
    "# Method 2\n",
    "count = ((df['category'] == 'Economy & Business') | (df['category'] == 'Energy & Environment')).sum()\n",
    "print('The total number of articles are', count)\n"
   ]
  },
  {
   "cell_type": "markdown",
   "id": "b1efc52a",
   "metadata": {},
   "source": [
    "### Using ternary operator in codes\n",
    "#### value_if_true if condition else value_if_false\n"
   ]
  },
  {
   "cell_type": "code",
   "execution_count": 57,
   "id": "9b5e4540",
   "metadata": {},
   "outputs": [
    {
     "name": "stdout",
     "output_type": "stream",
     "text": [
      "20\n"
     ]
    }
   ],
   "source": [
    "# Example \n",
    "x = 10\n",
    "y = 20\n",
    "z = 30\n",
    "value = z if x ==y else (x if x < z and z==y else y)\n",
    "print(value)"
   ]
  },
  {
   "cell_type": "code",
   "execution_count": 80,
   "id": "9cb18e33",
   "metadata": {},
   "outputs": [
    {
     "name": "stdout",
     "output_type": "stream",
     "text": [
      "good\n"
     ]
    }
   ],
   "source": [
    "# Trying it with strings\n",
    "author = 'Kia Kokalitcheva'\n",
    "var_1 = 'Economy & Business'\n",
    "var_2 = 'Energy & Environment'\n",
    "\n",
    "result = 'good' if ((df['author'] == author) & (df['category'] == var_1)).any else 'bad'\n",
    "print(result)"
   ]
  },
  {
   "cell_type": "markdown",
   "id": "2cdcfcf2",
   "metadata": {},
   "source": [
    "## Working with Lists\n",
    "- I will use the column of the dataframe as the value of the list\n",
    "\n",
    "There are many functions and methods that can be used with lists to manipulate their contents. Here are some of the most common ones:\n",
    "\n",
    "    append(): adds an item to the end of the list\n",
    "    insert(): adds an item at a specified index\n",
    "    remove(): removes the first occurrence of a specified item\n",
    "    pop(): removes and returns the item at a specified index (or the last item if no index is specified)\n",
    "    index(): returns the index of the first occurrence of a specified item\n",
    "    count(): returns the number of times a specified item appears in the list\n",
    "    sort(): sorts the items in the list in ascending order\n",
    "    reverse(): reverses the order of the items in the list\n",
    "    len(): returns the number of items in the list"
   ]
  },
  {
   "cell_type": "code",
   "execution_count": 102,
   "id": "d174b76b",
   "metadata": {},
   "outputs": [
    {
     "name": "stdout",
     "output_type": "stream",
     "text": [
      "['article_link', 'title', 'author', 'category', 'article_content', 'article_tokens']\n"
     ]
    }
   ],
   "source": [
    "columns = df.columns.tolist()\n",
    "print(columns)"
   ]
  },
  {
   "cell_type": "code",
   "execution_count": 103,
   "id": "8a1bb975",
   "metadata": {},
   "outputs": [
    {
     "name": "stdout",
     "output_type": "stream",
     "text": [
      "Extracting indexes 3:5 ['category', 'article_content']\n"
     ]
    }
   ],
   "source": [
    "# Extracting certain value using the index\n",
    "print('Extracting indexes 3:5', columns[3:5])"
   ]
  },
  {
   "cell_type": "code",
   "execution_count": 104,
   "id": "ed2fe144",
   "metadata": {},
   "outputs": [
    {
     "name": "stdout",
     "output_type": "stream",
     "text": [
      "['article_link', 'title', 'author', 'category', 'article_content', 'article_tokens', 'region']\n"
     ]
    }
   ],
   "source": [
    "# Modifying the list by adding 'region'\n",
    "columns.append('region')\n",
    "print(columns)"
   ]
  },
  {
   "cell_type": "code",
   "execution_count": 105,
   "id": "4898558c",
   "metadata": {},
   "outputs": [
    {
     "name": "stdout",
     "output_type": "stream",
     "text": [
      "['art', 'article_link', 'title', 'author', 'category', 'article_content', 'article_tokens', 'region']\n"
     ]
    }
   ],
   "source": [
    "# Adding 'gender' in a certain index\n",
    "columns.insert(0, 'art')\n",
    "print(columns)"
   ]
  },
  {
   "cell_type": "code",
   "execution_count": 111,
   "id": "28fe37ca",
   "metadata": {},
   "outputs": [
    {
     "name": "stdout",
     "output_type": "stream",
     "text": [
      "0 title\n",
      "1 region\n",
      "2 category\n",
      "3 author\n",
      "4 article_tokens\n",
      "5 article_link\n",
      "6 article_content\n",
      "7 art\n"
     ]
    }
   ],
   "source": [
    "# Using enumerate\n",
    "\n",
    "for key, value in enumerate(columns):\n",
    "    print(key, value)"
   ]
  },
  {
   "cell_type": "markdown",
   "id": "7f65eb01",
   "metadata": {},
   "source": [
    "### Converting list to a comma-seperated value"
   ]
  },
  {
   "cell_type": "code",
   "execution_count": 112,
   "id": "cf0e06df",
   "metadata": {
    "scrolled": true
   },
   "outputs": [
    {
     "name": "stdout",
     "output_type": "stream",
     "text": [
      "title, region, category, author, article_tokens, article_link, article_content, art\n"
     ]
    }
   ],
   "source": [
    "csv = ', '.join(columns)\n",
    "print(csv)"
   ]
  },
  {
   "cell_type": "code",
   "execution_count": 113,
   "id": "8a5e5607",
   "metadata": {},
   "outputs": [
    {
     "data": {
      "text/plain": [
       "str"
      ]
     },
     "execution_count": 113,
     "metadata": {},
     "output_type": "execute_result"
    }
   ],
   "source": [
    "# it is not just a single string\n",
    "type(csv)"
   ]
  },
  {
   "cell_type": "code",
   "execution_count": 116,
   "id": "c63fa4de",
   "metadata": {},
   "outputs": [
    {
     "name": "stdout",
     "output_type": "stream",
     "text": [
      "['title', 'region', 'category', 'author', 'article_tokens', 'article_link', 'article_content', 'art']\n"
     ]
    }
   ],
   "source": [
    "# converting the string to a list\n",
    "columns = csv.split(', ')\n",
    "print(columns)"
   ]
  },
  {
   "cell_type": "markdown",
   "id": "24dc8f23",
   "metadata": {},
   "source": [
    "## Working with Tuples\n",
    "- A tuple is an ordered collection of elements, just like a list, but once a tuple is created, it cannot be modified. \n",
    "- Tuples are used to store an immutable sequence of elements. They are particularly useful when used to group related data together or to return multiple values from a function."
   ]
  },
  {
   "cell_type": "code",
   "execution_count": 131,
   "id": "321a1214",
   "metadata": {},
   "outputs": [
    {
     "data": {
      "text/plain": [
       "tuple"
      ]
     },
     "execution_count": 131,
     "metadata": {},
     "output_type": "execute_result"
    }
   ],
   "source": [
    "columns = ('title', 'region', 'category', 'author', 'article_tokens', 'article_link', 'article_content', 'art', 'art')\n",
    "type(columns)"
   ]
  },
  {
   "cell_type": "code",
   "execution_count": 132,
   "id": "a3d70166",
   "metadata": {
    "scrolled": true
   },
   "outputs": [
    {
     "name": "stdout",
     "output_type": "stream",
     "text": [
      "9\n"
     ]
    }
   ],
   "source": [
    "print(len(columns))"
   ]
  },
  {
   "cell_type": "code",
   "execution_count": 133,
   "id": "ddac2166",
   "metadata": {
    "scrolled": false
   },
   "outputs": [
    {
     "name": "stdout",
     "output_type": "stream",
     "text": [
      "title\n"
     ]
    }
   ],
   "source": [
    "print(columns[0])"
   ]
  },
  {
   "cell_type": "code",
   "execution_count": 134,
   "id": "e97e2103",
   "metadata": {},
   "outputs": [
    {
     "name": "stdout",
     "output_type": "stream",
     "text": [
      "2\n"
     ]
    }
   ],
   "source": [
    "print(columns.count('art'))"
   ]
  },
  {
   "cell_type": "markdown",
   "id": "e51fdc3d",
   "metadata": {},
   "source": [
    "## Working with Sets\n",
    "- Sets are used to store a collection of **unique elements.** They are particularly useful when use to test membership, perform set operations like **union, intersection, and difference**, or remove duplicates from a list. "
   ]
  },
  {
   "cell_type": "code",
   "execution_count": 135,
   "id": "f34004ab",
   "metadata": {},
   "outputs": [],
   "source": [
    "columns = {'title', 'region', 'category', 'author', 'article_tokens', 'article_link', 'article_content', 'art', 'art'}"
   ]
  },
  {
   "cell_type": "code",
   "execution_count": 136,
   "id": "6a66c681",
   "metadata": {},
   "outputs": [
    {
     "data": {
      "text/plain": [
       "set"
      ]
     },
     "execution_count": 136,
     "metadata": {},
     "output_type": "execute_result"
    }
   ],
   "source": [
    "type(columns)"
   ]
  },
  {
   "cell_type": "code",
   "execution_count": 137,
   "id": "3c86ca44",
   "metadata": {},
   "outputs": [
    {
     "name": "stdout",
     "output_type": "stream",
     "text": [
      "{'title', 'article_tokens', 'region', 'art', 'article_link', 'category', 'author', 'article_content'}\n"
     ]
    }
   ],
   "source": [
    "# We could see here that 'art' is not shown twice because the set are used for unique elements only\n",
    "print(columns)"
   ]
  }
 ],
 "metadata": {
  "kernelspec": {
   "display_name": "Python 3 (ipykernel)",
   "language": "python",
   "name": "python3"
  },
  "language_info": {
   "codemirror_mode": {
    "name": "ipython",
    "version": 3
   },
   "file_extension": ".py",
   "mimetype": "text/x-python",
   "name": "python",
   "nbconvert_exporter": "python",
   "pygments_lexer": "ipython3",
   "version": "3.9.13"
  }
 },
 "nbformat": 4,
 "nbformat_minor": 5
}
